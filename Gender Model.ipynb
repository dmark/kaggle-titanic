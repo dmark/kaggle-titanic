{
 "cells": [
  {
   "cell_type": "code",
   "execution_count": 4,
   "metadata": {
    "collapsed": false
   },
   "outputs": [
    {
     "name": "stdout",
     "output_type": "stream",
     "text": [
      "Proportion of women who survived is 0.742038216561\n",
      "Proportion of men who survived is 0.188908145581\n"
     ]
    }
   ],
   "source": [
    "import csv as csv\n",
    "import numpy as np\n",
    "training_data = csv.reader(open('data/train.csv', 'rb'))\n",
    "header = training_data.next()    # Lop off the header.\n",
    "data=[]\n",
    "for row in training_data:\n",
    "    data.append(row[0:])\n",
    "data = np.array(data)\n",
    "females = data[data[0::,4]==\"female\", 1].astype(np.float)\n",
    "males = data[data[0::,4]==\"male\", 1].astype(np.float)\n",
    "female_survival_ratio = np.sum(females) / np.size(females)\n",
    "male_survival_ratio = np.sum(males) / np.size(males)\n",
    "print 'Proportion of women who survived is %s' % female_survival_ratio\n",
    "print 'Proportion of men who survived is %s' % male_survival_ratio\n",
    "test_data = csv.reader(open('data/test.csv', 'rb'))\n",
    "header = test_data.next()\n",
    "results = csv.writer(open(\"results/gendermodel.csv\", \"wb\"))\n",
    "results.writerow([\"PassengerId\", \"Survived\"])\n",
    "for row in test_data:\n",
    "    if row[3] == 'female':\n",
    "        results.writerow([row[0], \"1\"])\n",
    "    else:\n",
    "        results.writerow([row[0], \"0\"])\n"
   ]
  },
  {
   "cell_type": "code",
   "execution_count": null,
   "metadata": {
    "collapsed": true
   },
   "outputs": [],
   "source": []
  }
 ],
 "metadata": {
  "kernelspec": {
   "display_name": "Python 2",
   "language": "python",
   "name": "python2"
  },
  "language_info": {
   "codemirror_mode": {
    "name": "ipython",
    "version": 2
   },
   "file_extension": ".py",
   "mimetype": "text/x-python",
   "name": "python",
   "nbconvert_exporter": "python",
   "pygments_lexer": "ipython2",
   "version": "2.7.9"
  }
 },
 "nbformat": 4,
 "nbformat_minor": 0
}
